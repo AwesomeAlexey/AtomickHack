{
 "cells": [
  {
   "cell_type": "code",
   "execution_count": 5,
   "metadata": {},
   "outputs": [],
   "source": [
    "from pathlib import Path\n",
    "import numpy as np\n",
    "import shutil\n",
    "\n",
    "from typing import List\n"
   ]
  },
  {
   "cell_type": "code",
   "execution_count": 6,
   "metadata": {},
   "outputs": [
    {
     "name": "stdout",
     "output_type": "stream",
     "text": [
      "1162 1162\n"
     ]
    }
   ],
   "source": [
    "data_folder = Path(\"dataset\")\n",
    "\n",
    "labels = list(data_folder.rglob(\"*).txt\"))\n",
    "images = list(data_folder.rglob(\"*.jpg\"))\n",
    "labels = sorted(labels, key= lambda x: x.stem)\n",
    "images = sorted(images, key= lambda x: x.stem)\n",
    "\n",
    "dataset_size = len(labels)\n",
    "\n",
    "print(dataset_size, len(images))"
   ]
  },
  {
   "cell_type": "code",
   "execution_count": 9,
   "metadata": {},
   "outputs": [
    {
     "name": "stdout",
     "output_type": "stream",
     "text": [
      "[   0    1    2 ... 1159 1160 1161]\n",
      "Train: [344 940 406 917 652 294 121  67 782 810]\n",
      "Val: [ 447  498  162    7  685  850  889 1095  741  263]\n"
     ]
    },
    {
     "name": "stderr",
     "output_type": "stream",
     "text": [
      "/tmp/ipykernel_79526/1292449376.py:29: RuntimeWarning: invalid value encountered in divide\n",
      "  probs = probs / probs.sum()\n"
     ]
    }
   ],
   "source": [
    "np.random.seed(69)\n",
    "\n",
    "train_coeff = 0.7\n",
    "val_coeff = 0.2\n",
    "test_coeff = 0.1\n",
    "\n",
    "train_size = int(dataset_size * train_coeff)\n",
    "val_size = int(dataset_size * val_coeff)\n",
    "test_size = dataset_size - train_size - val_size\n",
    "\n",
    "print(train_size, val_size, test_size, train_size + val_size + test_size)\n",
    "\n",
    "\n",
    "all_indexes = np.arange(0, len(labels))\n",
    "print(all_indexes)\n",
    "\n",
    "probs = np.ones_like(all_indexes.copy())\n",
    "probs = probs / probs.sum()\n",
    "\n",
    "train_indices = np.random.choice(all_indexes, [train_size], replace=False, p=probs)\n",
    "\n",
    "probs[train_indices] = 0\n",
    "\n",
    "probs = probs / probs.sum()\n",
    "\n",
    "val_indices = np.random.choice(all_indexes, [val_size], replace=False, p=probs)\n",
    "\n",
    "probs[val_indices] = 0\n",
    "probs = probs / probs.sum()\n",
    "\n",
    "test_indices = np.random.choice(all_indexes, [test_size], replace=False, p=probs)\n",
    "\n",
    "\n",
    "print(\"Train:\", train_indices[:10])\n",
    "print(\"Val:\", val_indices[:10])\n",
    "print(\"Test:\", test_indices[:10])\n",
    "\n",
    "for train in train_indices:\n",
    "    assert train not in test_indices and train not in val_indices\n",
    "\n",
    "for val in val_indices:\n",
    "    assert val not in train_indices and val not in test_indices\n"
   ]
  },
  {
   "cell_type": "code",
   "execution_count": 10,
   "metadata": {},
   "outputs": [],
   "source": [
    "def get_pairs(indices_array: np.ndarray):\n",
    "\n",
    "    images_ = np.array(images)[indices_array]\n",
    "    labels_ = np.array(labels)[indices_array]\n",
    "    return images_, labels_\n",
    "\n",
    "\n",
    "train_images, train_labels = get_pairs(train_indices)\n",
    "val_images, val_labels = get_pairs(val_indices)\n",
    "test_images, test_labels = get_pairs(test_indices)\n",
    "\n"
   ]
  },
  {
   "cell_type": "code",
   "execution_count": 12,
   "metadata": {},
   "outputs": [],
   "source": [
    "path_to_go = Path(\"datasets/data\")\n",
    "path_to_go.mkdir(exist_ok=True)\n",
    "\n",
    "train_path = path_to_go / \"train\"\n",
    "val_path = path_to_go / \"val\"\n",
    "test_path = path_to_go / \"test\"\n",
    "\n",
    "train_path.mkdir(exist_ok=True)\n",
    "val_path.mkdir(exist_ok=True)\n",
    "test_path.mkdir(exist_ok=True)\n"
   ]
  },
  {
   "cell_type": "code",
   "execution_count": 13,
   "metadata": {},
   "outputs": [],
   "source": [
    "\n",
    "def copy_files(target_folder: Path | str, files: List[Path | str]):\n",
    "    \n",
    "    for file in files:\n",
    "        shutil.copy(file, target_folder)\n",
    "\n",
    "\n",
    "def copy_data(target_folder: Path| str, labels_: List[Path | str], images_: List[Path | str]):\n",
    "\n",
    "    copy_files(target_folder, labels_)\n",
    "    copy_files(target_folder, images_)\n",
    "\n",
    "\n",
    "copy_data(train_path, train_labels, train_images)\n",
    "copy_data(val_path, val_labels, val_images)\n",
    "copy_data(test_path, test_labels, test_images)\n",
    "\n"
   ]
  }
 ],
 "metadata": {
  "kernelspec": {
   "display_name": ".venv",
   "language": "python",
   "name": "python3"
  },
  "language_info": {
   "codemirror_mode": {
    "name": "ipython",
    "version": 3
   },
   "file_extension": ".py",
   "mimetype": "text/x-python",
   "name": "python",
   "nbconvert_exporter": "python",
   "pygments_lexer": "ipython3",
   "version": "3.10.12"
  }
 },
 "nbformat": 4,
 "nbformat_minor": 2
}
