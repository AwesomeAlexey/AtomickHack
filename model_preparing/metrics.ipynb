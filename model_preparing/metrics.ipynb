{
 "cells": [
  {
   "cell_type": "code",
   "execution_count": null,
   "metadata": {},
   "outputs": [],
   "source": [
    "from pathlib import Path\n",
    "from ultralytics import YOLO\n",
    "import numpy as np\n",
    "from  ultralytics.engine.results import Boxes as Boxes\n",
    "from typing import List"
   ]
  },
  {
   "cell_type": "code",
   "execution_count": null,
   "metadata": {},
   "outputs": [],
   "source": [
    "model = YOLO(\"best_yolov8m_tune_10_iter.pt\")"
   ]
  },
  {
   "cell_type": "code",
   "execution_count": null,
   "metadata": {},
   "outputs": [],
   "source": [
    "\n",
    "def make_dict(image_path: Path, box: Boxes):\n",
    "    x, y, w, h = box.xywhn[0]\n",
    "\n",
    "    line = {'filename': image_path.name, \n",
    "            'class_id': int(box.cls), \n",
    "            'rel_x': x,\n",
    "            'rel_y': y,\n",
    "            'width': w,\n",
    "            'height': h}\n",
    "    return line\n",
    "\n",
    "def process_boxes(image_path: Path, np_boxes: List[Boxes], threshold: float):\n",
    "    lines = []\n",
    "    for box in np_boxes:\n",
    "        if box.conf > threshold:\n",
    "            line = make_dict(image_path, box)    \n",
    "            lines.append(line)\n",
    "    return lines"
   ]
  },
  {
   "cell_type": "code",
   "execution_count": null,
   "metadata": {},
   "outputs": [],
   "source": [
    "\n",
    "def get_metrics_for_file(image: Path, threshold: float):\n",
    "    res = model(image)[0]\n",
    "    lines = process_boxes(image, res.cpu().numpy().boxes, threshold=threshold)\n",
    "    return lines"
   ]
  },
  {
   "cell_type": "code",
   "execution_count": null,
   "metadata": {},
   "outputs": [],
   "source": [
    "def get_metrics_for_file_array(images: List[Path], threshold: float):\n",
    "    results = []\n",
    "    for image in images:\n",
    "        lines, confs = get_metrics_for_file(image, threshold=threshold)\n",
    "        results += lines\n",
    "    return results"
   ]
  },
  {
   "cell_type": "code",
   "execution_count": null,
   "metadata": {},
   "outputs": [],
   "source": [
    "test_files_folder = Path(\"test_dataset/\")\n",
    "threshold = 0.75\n",
    "test_images = list(test_files_folder.glob(\"*.jpg\"))\n",
    "test_results, confss = get_metrics_for_file_array(test_images, threshold=threshold);\n"
   ]
  },
  {
   "cell_type": "code",
   "execution_count": null,
   "metadata": {},
   "outputs": [],
   "source": [
    "import csv\n",
    "\n",
    "test_results_filename = Path(\"yolo8m_tuned.csv\")\n",
    "\n",
    "with open(test_results_filename, 'w') as f:\n",
    "\n",
    "    writer = csv.DictWriter(f, fieldnames=test_results[0].keys(),delimiter=';')\n",
    "    writer.writeheader()\n",
    "    writer.writerows(test_results)\n",
    "    "
   ]
  }
 ],
 "metadata": {
  "kernelspec": {
   "display_name": ".venv",
   "language": "python",
   "name": "python3"
  },
  "language_info": {
   "codemirror_mode": {
    "name": "ipython",
    "version": 3
   },
   "file_extension": ".py",
   "mimetype": "text/x-python",
   "name": "python",
   "nbconvert_exporter": "python",
   "pygments_lexer": "ipython3",
   "version": "3.10.12"
  }
 },
 "nbformat": 4,
 "nbformat_minor": 2
}
